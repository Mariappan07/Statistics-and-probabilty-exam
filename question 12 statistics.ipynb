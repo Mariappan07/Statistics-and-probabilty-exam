{
 "cells": [
  {
   "cell_type": "code",
   "execution_count": 2,
   "id": "740fc338",
   "metadata": {},
   "outputs": [
    {
     "name": "stdout",
     "output_type": "stream",
     "text": [
      "            City  No_of_deaths_in_last_month  No_of_deaths_in_current_month\n",
      "0       New York                        3406                           4398\n",
      "1     New Jersey                        1469                           1846\n",
      "2       Michigan                         662                           1288\n",
      "3     California                         583                            382\n",
      "4        Florida                         582                            879\n",
      "5  Massachusetts                         526                            430\n",
      "6          Texas                         461                            321\n",
      "predicted by scientist [4427.8, 1909.7, 860.6, 757.9, 756.6, 683.8, 599.3]\n",
      "actual current death value  [4398, 1846, 1288, 382, 879, 430, 321]\n",
      "difference between predicted and current [ 29.8  63.7 427.4 375.9 122.4 253.8 278.3]\n",
      "signicance of 0.1 [340.6, 146.9, 66.2, 58.300000000000004, 58.2, 52.6, 46.1]\n"
     ]
    }
   ],
   "source": [
    "import pandas as pd\n",
    "City = [\"New York\", \"New Jersey\", \"Michigan\", \"California\", \"Florida\", \"Massachusetts\", \"Texas\"]\n",
    "No_of_deaths_in_last_month = [3406, 1469, 662, 583, 582, 526, 461]\n",
    "No_of_deaths_in_current_month = [4398, 1846, 1288, 382, 879, 430, 321]\n",
    "df = pd.DataFrame({\"City\": City, \"No_of_deaths_in_last_month\":No_of_deaths_in_last_month, \"No_of_deaths_in_current_month\": No_of_deaths_in_current_month})\n",
    "print(df)\n",
    "\n",
    "\n",
    "\n",
    "\n",
    "\n",
    "predicted=[]\n",
    "significance=[]\n",
    "for i in No_of_deaths_in_last_month:\n",
    "    predicted.append((0.30*i)+i)\n",
    "    significance.append(0.1*i)\n",
    "print(\"predicted by scientist\",predicted)\n",
    "print(\"actual current death value \",No_of_deaths_in_current_month)\n",
    "\n",
    "#difference between actual and predicted\n",
    "import numpy as np\n",
    "n_predicted=np.array(predicted)\n",
    "n_No_of_deaths_in_current_month=np.array(No_of_deaths_in_current_month)\n",
    "difference=np.absolute(n_No_of_deaths_in_current_month-n_predicted)\n",
    "print(\"difference between predicted and current\",difference)\n",
    "print(\"signicance of 0.1\",significance)\n",
    "\n"
   ]
  }
 ],
 "metadata": {
  "kernelspec": {
   "display_name": "Python 3 (ipykernel)",
   "language": "python",
   "name": "python3"
  },
  "language_info": {
   "codemirror_mode": {
    "name": "ipython",
    "version": 3
   },
   "file_extension": ".py",
   "mimetype": "text/x-python",
   "name": "python",
   "nbconvert_exporter": "python",
   "pygments_lexer": "ipython3",
   "version": "3.9.7"
  }
 },
 "nbformat": 4,
 "nbformat_minor": 5
}
